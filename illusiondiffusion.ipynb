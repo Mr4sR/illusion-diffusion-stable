{
  "nbformat": 4,
  "nbformat_minor": 0,
  "metadata": {
    "colab": {
      "provenance": [],
      "gpuType": "T4",
      "authorship_tag": "ABX9TyMus1QH6a/ff6ZCyRSWF8JE",
      "include_colab_link": true
    },
    "kernelspec": {
      "name": "python3",
      "display_name": "Python 3"
    },
    "language_info": {
      "name": "python"
    },
    "accelerator": "GPU"
  },
  "cells": [
    {
      "cell_type": "markdown",
      "metadata": {
        "id": "view-in-github",
        "colab_type": "text"
      },
      "source": [
        "<a href=\"https://colab.research.google.com/github/Mr4sR/illusion-diffusion-stable/blob/main/illusiondiffusion.ipynb\" target=\"_parent\"><img src=\"https://colab.research.google.com/assets/colab-badge.svg\" alt=\"Open In Colab\"/></a>"
      ]
    },
    {
      "cell_type": "code",
      "source": [
        "#@title 0. Check GPU\n",
        "!nvidia-smi"
      ],
      "metadata": {
        "id": "OZSMpn2CG-st"
      },
      "execution_count": null,
      "outputs": []
    },
    {
      "cell_type": "code",
      "execution_count": null,
      "metadata": {
        "id": "lsjlMGY1E_k7"
      },
      "outputs": [],
      "source": [
        "#@title 1. Install Requirements\n",
        "!pip install diffusers accelerate transformers torch gradio pillow"
      ]
    },
    {
      "cell_type": "code",
      "source": [
        "#@title 2. Import All Library\n",
        "import torch\n",
        "import gradio as gr\n",
        "from gradio import processing_utils, utils\n",
        "from PIL import Image\n",
        "import random\n",
        "from diffusers import (\n",
        "    DiffusionPipeline,\n",
        "    AutoencoderKL,\n",
        "    StableDiffusionControlNetPipeline,\n",
        "    ControlNetModel,\n",
        "    StableDiffusionLatentUpscalePipeline,\n",
        "    StableDiffusionImg2ImgPipeline,\n",
        "    StableDiffusionControlNetImg2ImgPipeline,\n",
        "    DPMSolverMultistepScheduler,  # <-- Added import\n",
        "    EulerDiscreteScheduler  # <-- Added import\n",
        ")\n",
        "import time"
      ],
      "metadata": {
        "id": "mEWG3QX_GbSe",
        "cellView": "form"
      },
      "execution_count": 65,
      "outputs": []
    },
    {
      "cell_type": "code",
      "source": [
        "#@title 3. Initialize Model\n",
        "BASE_MODEL = \"SG161222/Realistic_Vision_V5.1_noVAE\"\n",
        "\n",
        "# Initialize both pipelines\n",
        "vae = AutoencoderKL.from_pretrained(\"stabilityai/sd-vae-ft-mse\", torch_dtype=torch.float16)\n",
        "#init_pipe = DiffusionPipeline.from_pretrained(\"SG161222/Realistic_Vision_V5.1_noVAE\", torch_dtype=torch.float16)\n",
        "controlnet = ControlNetModel.from_pretrained(\"monster-labs/control_v1p_sd15_qrcode_monster\", torch_dtype=torch.float16)#, torch_dtype=torch.float16)\n",
        "main_pipe = StableDiffusionControlNetPipeline.from_pretrained(\n",
        "    BASE_MODEL,\n",
        "    controlnet=controlnet,\n",
        "    vae=vae,\n",
        "    safety_checker=None,\n",
        "    torch_dtype=torch.float16,\n",
        ").to(\"cuda\")"
      ],
      "metadata": {
        "id": "YkhoLiVlF3XI",
        "cellView": "form"
      },
      "execution_count": null,
      "outputs": []
    },
    {
      "cell_type": "code",
      "source": [
        "#@title 4. Inference function\n",
        "\n",
        "image_pipe = StableDiffusionControlNetImg2ImgPipeline(**main_pipe.components)\n",
        "\n",
        "# Sampler map\n",
        "SAMPLER_MAP = {\n",
        "    \"DPM++ Karras SDE\": lambda config: DPMSolverMultistepScheduler.from_config(config, use_karras=True, algorithm_type=\"sde-dpmsolver++\"),\n",
        "    \"Euler\": lambda config: EulerDiscreteScheduler.from_config(config),\n",
        "}\n",
        "\n",
        "from diffusers.utils import load_image\n",
        "\n",
        "#@markdown Change to your image location path\n",
        "imagePath = \"/content/png-transparent-tiktok-social-media-logos-brands-icon-thumbnail.png\" #@param {type:\"string\"}\n",
        "img = load_image(imagePath)\n",
        "#@markdown Fill in the prompts to customize to your liking and negativePrompts for things you want to avoid.\n",
        "prompt = \"antartica have kraken\" #@param {type:\"string\"}\n",
        "negativePrompt = \"low quality, glitch\" #@param {type:\"string\"}\n",
        "#@markdown ControlNet conditioning scale\n",
        "illusionStrength = 1.4 #@param {type:\"number\"}\n",
        "\n",
        "def center_crop_resize(img, output_size=(512, 512)):\n",
        "    width, height = img.size\n",
        "\n",
        "    # Calculate dimensions to crop to the center\n",
        "    new_dimension = min(width, height)\n",
        "    left = (width - new_dimension)/2\n",
        "    top = (height - new_dimension)/2\n",
        "    right = (width + new_dimension)/2\n",
        "    bottom = (height + new_dimension)/2\n",
        "\n",
        "    # Crop and resize\n",
        "    img = img.crop((left, top, right, bottom))\n",
        "    img = img.resize(output_size)\n",
        "\n",
        "    return img\n",
        "\n",
        "def common_upscale(samples, width, height, upscale_method, crop=False):\n",
        "        if crop == \"center\":\n",
        "            old_width = samples.shape[3]\n",
        "            old_height = samples.shape[2]\n",
        "            old_aspect = old_width / old_height\n",
        "            new_aspect = width / height\n",
        "            x = 0\n",
        "            y = 0\n",
        "            if old_aspect > new_aspect:\n",
        "                x = round((old_width - old_width * (new_aspect / old_aspect)) / 2)\n",
        "            elif old_aspect < new_aspect:\n",
        "                y = round((old_height - old_height * (old_aspect / new_aspect)) / 2)\n",
        "            s = samples[:,:,y:old_height-y,x:old_width-x]\n",
        "        else:\n",
        "            s = samples\n",
        "\n",
        "        return torch.nn.functional.interpolate(s, size=(height, width), mode=upscale_method)\n",
        "\n",
        "def upscale(samples, upscale_method, scale_by):\n",
        "        #s = samples.copy()\n",
        "        width = round(samples[\"images\"].shape[3] * scale_by)\n",
        "        height = round(samples[\"images\"].shape[2] * scale_by)\n",
        "        s = common_upscale(samples[\"images\"], width, height, upscale_method, \"disabled\")\n",
        "        return (s)\n",
        "\n",
        "def check_inputs(prompt: str, control_image: Image.Image):\n",
        "    if control_image is None:\n",
        "        raise gr.Error(\"Please select or upload an Input Illusion\")\n",
        "    if prompt is None or prompt == \"\":\n",
        "        raise gr.Error(\"Prompt is required\")\n",
        "\n",
        "def convert_to_pil(base64_image):\n",
        "    pil_image = processing_utils.decode_base64_to_image(base64_image)\n",
        "    return pil_image\n",
        "\n",
        "def convert_to_base64(pil_image):\n",
        "    base64_image = processing_utils.encode_pil_to_base64(pil_image)\n",
        "    return base64_image\n",
        "\n",
        "\n",
        "def inference(\n",
        "    control_image: Image.Image,\n",
        "    prompt: str,\n",
        "    negative_prompt: str,\n",
        "    guidance_scale: float = 7.5,\n",
        "    controlnet_conditioning_scale: float = 1,\n",
        "    control_guidance_start: float = 0,\n",
        "    control_guidance_end: float = 1,\n",
        "    upscaler_strength: float = 1,\n",
        "    seed: int = -1,\n",
        "    sampler = \"DPM++ Karras SDE\",\n",
        "    progress = gr.Progress(track_tqdm=True),\n",
        "    profile: gr.OAuthProfile | None = None,\n",
        "):\n",
        "    start_time = time.time()\n",
        "    start_time_struct = time.localtime(start_time)\n",
        "    start_time_formatted = time.strftime(\"%H:%M:%S\", start_time_struct)\n",
        "    print(f\"Inference started at {start_time_formatted}\")\n",
        "\n",
        "    # Generate the initial image\n",
        "    #init_image = init_pipe(prompt).images[0]\n",
        "\n",
        "    # Rest of your existing code\n",
        "    control_image_small = center_crop_resize(control_image)\n",
        "    control_image_large = center_crop_resize(control_image, (1024, 1024))\n",
        "\n",
        "    main_pipe.scheduler = SAMPLER_MAP[sampler](main_pipe.scheduler.config)\n",
        "    my_seed = random.randint(0, 2**32 - 1) if seed == -1 else seed\n",
        "    generator = torch.Generator(device=\"cuda\").manual_seed(my_seed)\n",
        "    out = main_pipe(\n",
        "        prompt=prompt,\n",
        "        negative_prompt=negative_prompt,\n",
        "        image=control_image_small,\n",
        "        guidance_scale=guidance_scale,\n",
        "        controlnet_conditioning_scale=controlnet_conditioning_scale,\n",
        "        generator=generator,\n",
        "        control_guidance_start=control_guidance_start,\n",
        "        control_guidance_end=control_guidance_end,\n",
        "        num_inference_steps=15,\n",
        "        output_type=\"latent\"\n",
        "    )\n",
        "    upscaled_latents = upscale(out, \"nearest-exact\", 2)\n",
        "    out_image = image_pipe(\n",
        "        prompt=prompt,\n",
        "        negative_prompt=negative_prompt,\n",
        "        control_image=control_image_large,\n",
        "        image=upscaled_latents,\n",
        "        guidance_scale=guidance_scale,\n",
        "        generator=generator,\n",
        "        num_inference_steps=20,\n",
        "        strength=upscaler_strength,\n",
        "        control_guidance_start=control_guidance_start,\n",
        "        control_guidance_end=control_guidance_end,\n",
        "        controlnet_conditioning_scale=controlnet_conditioning_scale\n",
        "    )\n",
        "    end_time = time.time()\n",
        "    end_time_struct = time.localtime(end_time)\n",
        "    end_time_formatted = time.strftime(\"%H:%M:%S\", end_time_struct)\n",
        "    print(f\"Inference ended at {end_time_formatted}, taking {end_time-start_time}s\")\n",
        "\n",
        "    out_image[\"images\"][0].save('output.jpg')\n",
        "    return out_image[\"images\"][0], gr.update(visible=True), gr.update(visible=True), my_seed\n",
        "\n",
        "inference(control_image= img, prompt= prompt, negative_prompt= negativePrompt, controlnet_conditioning_scale= illusionStrength)"
      ],
      "metadata": {
        "cellView": "form",
        "id": "vwg1JyAVJm9T"
      },
      "execution_count": null,
      "outputs": []
    },
    {
      "cell_type": "code",
      "source": [
        "#@title 5. Show Result\n",
        "img = load_image(\"/content/output.jpg\")\n",
        "img"
      ],
      "metadata": {
        "cellView": "form",
        "id": "vHsn5uaMbjnj"
      },
      "execution_count": null,
      "outputs": []
    }
  ]
}